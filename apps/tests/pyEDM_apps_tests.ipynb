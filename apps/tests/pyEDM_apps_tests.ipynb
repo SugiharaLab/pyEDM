{
 "cells": [
  {
   "cell_type": "markdown",
   "id": "4305972c",
   "metadata": {},
   "source": [
    "## Test pyEDM/etc/apps as loaded modules"
   ]
  },
  {
   "cell_type": "code",
   "execution_count": null,
   "id": "3e79ecdd",
   "metadata": {},
   "outputs": [],
   "source": [
    "import sys\n",
    "sys.path.append( '..' )\n",
    "\n",
    "from pyEDM  import sampleData, ComputeError\n",
    "from pandas import DataFrame\n",
    "from matplotlib import pyplot as plt"
   ]
  },
  {
   "cell_type": "markdown",
   "id": "168dbfb6",
   "metadata": {},
   "source": [
    "### Embedding"
   ]
  },
  {
   "cell_type": "code",
   "execution_count": null,
   "id": "52e3c490",
   "metadata": {},
   "outputs": [],
   "source": [
    "from Embedding import Embedding"
   ]
  },
  {
   "cell_type": "code",
   "execution_count": null,
   "id": "ae6255ce",
   "metadata": {},
   "outputs": [],
   "source": [
    " df = Embedding( sampleData['Lorenz5D'], columns = ['V1', 'V3'], \n",
    "                 E = 2, tau = -2, plusminus = True )"
   ]
  },
  {
   "cell_type": "code",
   "execution_count": null,
   "id": "85e0d4b9",
   "metadata": {},
   "outputs": [],
   "source": [
    "df.head(4)"
   ]
  },
  {
   "cell_type": "markdown",
   "id": "55593c8a",
   "metadata": {},
   "source": [
    "### EmbedDim Columns\n",
    "Use multiprocessing Pool to process parallelise EmbedDimension."
   ]
  },
  {
   "cell_type": "code",
   "execution_count": null,
   "id": "15de3370",
   "metadata": {},
   "outputs": [],
   "source": [
    "from EmbedDim_Columns import EmbedDim_Columns"
   ]
  },
  {
   "cell_type": "code",
   "execution_count": null,
   "id": "d863e0c9",
   "metadata": {},
   "outputs": [],
   "source": [
    "D = EmbedDim_Columns( sampleData['Lorenz5D'], target = None, maxE = 15,\n",
    "                      lib = None, pred = None, Tp = 5, tau = -3,\n",
    "                      exclusionRadius = 0, validLib = [], noTime = False,\n",
    "                      ignoreNan = True, cores = 2, EDimCores = 5, \n",
    "                      outputFile = None, verbose = False, plot = False )"
   ]
  },
  {
   "cell_type": "code",
   "execution_count": null,
   "id": "ad575aa5",
   "metadata": {},
   "outputs": [],
   "source": [
    "DataFrame( D )"
   ]
  },
  {
   "cell_type": "markdown",
   "id": "006455a5",
   "metadata": {},
   "source": [
    "### SMap Tp\n",
    "Use multiprocessing Pool to process parallelise SMap.<br>\n",
    "The TpList (-T) argument specifies a list of Tp.<br>\n",
    "Return is a dictionary of SMap results.<br>"
   ]
  },
  {
   "cell_type": "code",
   "execution_count": null,
   "id": "e7d34274",
   "metadata": {},
   "outputs": [],
   "source": [
    "from SMap_Tp import SMap_Tp"
   ]
  },
  {
   "cell_type": "code",
   "execution_count": null,
   "id": "c2e99bfa",
   "metadata": {},
   "outputs": [],
   "source": [
    " D = SMap_Tp( sampleData['Lorenz5D'], \n",
    "              TpList = [0,1,2,3,4,5,6,7,8,9,10], target = 'V5', column = 'V1',\n",
    "              E = 5, tau = -1, theta = 3.3, exclusionRadius = 0,\n",
    "              lib = [1,500], pred = [501,800], cores = 5, embedded = False,\n",
    "              verbose = False, plot = False )"
   ]
  },
  {
   "cell_type": "code",
   "execution_count": null,
   "id": "fd191be9",
   "metadata": {},
   "outputs": [],
   "source": [
    "D.keys()"
   ]
  },
  {
   "cell_type": "code",
   "execution_count": null,
   "id": "3af1ea96",
   "metadata": {
    "scrolled": true
   },
   "outputs": [],
   "source": [
    "D['Tp1']['coefficients'].head(4)"
   ]
  },
  {
   "cell_type": "markdown",
   "id": "fce458e8",
   "metadata": {},
   "source": [
    "### SMap theta\n",
    "Use multiprocessing Pool to process parallelise SMap.<br>\n",
    "The thetaList (-th) argument specifies a list of theta.<br>\n",
    "Returns dictionary of SMap results."
   ]
  },
  {
   "cell_type": "code",
   "execution_count": null,
   "id": "cf1863b9",
   "metadata": {},
   "outputs": [],
   "source": [
    "from SMap_theta import SMap_theta"
   ]
  },
  {
   "cell_type": "code",
   "execution_count": null,
   "id": "f2cc8c84",
   "metadata": {},
   "outputs": [],
   "source": [
    " D = SMap_theta( sampleData['Lorenz5D'], \n",
    "                 thetaList = [0.01,0.05,0.1,0.5,1,2,3,4,5,6,7,8,9], \n",
    "                 target = 'V5', column = 'V1',\n",
    "                 E = 5, tau = -1, Tp = 1, exclusionRadius = 0,\n",
    "                 lib = [1,500], pred = [501,800], cores = 5, embedded = False,\n",
    "                 verbose = False, plot = False )"
   ]
  },
  {
   "cell_type": "code",
   "execution_count": null,
   "id": "b4f878b4",
   "metadata": {},
   "outputs": [],
   "source": [
    "D.keys()"
   ]
  },
  {
   "cell_type": "code",
   "execution_count": null,
   "id": "1cb08071",
   "metadata": {
    "scrolled": true
   },
   "outputs": [],
   "source": [
    "D['theta_3']['coefficients'].head(4)"
   ]
  },
  {
   "cell_type": "markdown",
   "id": "acd56dcb",
   "metadata": {},
   "source": [
    "### CrossMap Columns\n",
    "Use multiprocessing Pool to process parallelise Simplex.<br>\n",
    "The target (-t) specifies a column against which all other<br>\n",
    "columns are cross mapped.<br>\n",
    "Results returned in a dictionary. "
   ]
  },
  {
   "cell_type": "code",
   "execution_count": null,
   "id": "05a3f2a4",
   "metadata": {},
   "outputs": [],
   "source": [
    "from CrossMap_Columns import CrossMap_Columns"
   ]
  },
  {
   "cell_type": "code",
   "execution_count": null,
   "id": "d58a8f57",
   "metadata": {},
   "outputs": [],
   "source": [
    " D = CrossMap_Columns( sampleData['Lorenz5D'], \n",
    "                       target = 'V1', E = 5, Tp = 1, tau = -3, \n",
    "                       exclusionRadius = 0, lib = [1,500], pred = [501,800],\n",
    "                       cores = 5, outputFile = None, noTime = False,\n",
    "                       verbose = False, plot = False )"
   ]
  },
  {
   "cell_type": "code",
   "execution_count": null,
   "id": "cf4f49f0",
   "metadata": {},
   "outputs": [],
   "source": [
    "D.keys()"
   ]
  },
  {
   "cell_type": "code",
   "execution_count": null,
   "id": "8b4b5675",
   "metadata": {
    "scrolled": true
   },
   "outputs": [],
   "source": [
    "D['V5:V1'].head(4)"
   ]
  },
  {
   "cell_type": "markdown",
   "id": "0415843b",
   "metadata": {},
   "source": [
    "### CrossMap ColumnList\n",
    "Use multiprocessing Pool to process parallelise Simplex.<br>\n",
    "columns is a list of columns to be cross mapped against<br>\n",
    "the target (-t). columns can be a list of single columns,<br>\n",
    "or list of multiple columns."
   ]
  },
  {
   "cell_type": "code",
   "execution_count": null,
   "id": "4eafdc64",
   "metadata": {},
   "outputs": [],
   "source": [
    "from CrossMap_ColumnList import CrossMap_ColumnList"
   ]
  },
  {
   "cell_type": "code",
   "execution_count": null,
   "id": "e1f16491",
   "metadata": {},
   "outputs": [],
   "source": [
    "columnList = [ ['V2','V3'], ['V3','V4'], ['V4','V5'] ]"
   ]
  },
  {
   "cell_type": "code",
   "execution_count": null,
   "id": "326660d8",
   "metadata": {},
   "outputs": [],
   "source": [
    "D = CrossMap_ColumnList( sampleData['Lorenz5D'], \n",
    "                         columns = columnList, target = 'V1', \n",
    "                         E = 2, Tp = 1, tau = -3, \n",
    "                         exclusionRadius = 0, lib = [1,500], pred = [501,800],\n",
    "                         cores = 5, outputFile = None, noTime = False,\n",
    "                         verbose = False, plot = False )"
   ]
  },
  {
   "cell_type": "code",
   "execution_count": null,
   "id": "228eea91",
   "metadata": {},
   "outputs": [],
   "source": [
    "D.keys()"
   ]
  },
  {
   "cell_type": "code",
   "execution_count": null,
   "id": "86b1db2a",
   "metadata": {},
   "outputs": [],
   "source": [
    "df = D[\"['V2', 'V3']:V1\"]\n",
    "ComputeError( df['Observations'], df['Predictions'] )"
   ]
  },
  {
   "cell_type": "markdown",
   "id": "c01d2682",
   "metadata": {},
   "source": [
    "### CrossMap Matrix\n",
    "Use multiprocessing Pool to process parallelize Simplex.<br>\n",
    "All dataFrame columns are cross mapped to all others.<br>\n",
    "Return dictionary of Simplex CrossMap rho for each column."
   ]
  },
  {
   "cell_type": "code",
   "execution_count": null,
   "id": "22b02d2f",
   "metadata": {},
   "outputs": [],
   "source": [
    "from CrossMap_Matrix import CrossMap_Matrix"
   ]
  },
  {
   "cell_type": "code",
   "execution_count": null,
   "id": "90816b7c",
   "metadata": {},
   "outputs": [],
   "source": [
    "D = CrossMap_Matrix( sampleData['Lorenz5D'], E = 5, Tp = 1,\n",
    "                     tau = -1, exclusionRadius = 0,\n",
    "                     lib = None, pred = None, cores = 5,\n",
    "                     outputFile = None, noTime = False,\n",
    "                     verbose = False, plot = True )"
   ]
  },
  {
   "cell_type": "code",
   "execution_count": null,
   "id": "c48b1ceb",
   "metadata": {
    "scrolled": true
   },
   "outputs": [],
   "source": [
    "D"
   ]
  },
  {
   "cell_type": "code",
   "execution_count": null,
   "id": "f530cbfb",
   "metadata": {},
   "outputs": [],
   "source": [
    "DataFrame(D, columns = sampleData['Lorenz5D'].columns[1:], \n",
    "          index = sampleData['Lorenz5D'].columns[1:] )"
   ]
  },
  {
   "cell_type": "markdown",
   "id": "dfad4111",
   "metadata": {},
   "source": [
    "### CCM Matrix\n",
    "Use concurrent.futures ProcessPoolExecutor to process parallelize CCM.<br>\n",
    "All dataFrame columns are cross mapped to all others.<br>\n",
    "Return dictionary of CCM rho DataFrame and CCM(libSizes) slope DataFrame<br>\n",
    "If includeCCM = True, add a 'ccm results' item: a list of dicts of each CCM."
   ]
  },
  {
   "cell_type": "code",
   "execution_count": null,
   "id": "6381dfad",
   "metadata": {},
   "outputs": [],
   "source": [
    "from CCM_Matrix import CCM_Matrix"
   ]
  },
  {
   "cell_type": "code",
   "execution_count": null,
   "id": "4c03fbbe",
   "metadata": {},
   "outputs": [],
   "source": [
    "D = CCM_Matrix( sampleData['Lorenz5D'], \n",
    "                E               = 5, \n",
    "                pLibSizes       = [10,20,80,90],\n",
    "                sample          = 30,\n",
    "                Tp              = 0,\n",
    "                tau             = -1,\n",
    "                cores           = 5,\n",
    "                includeCCM      = True,\n",
    "                plot            = True,\n",
    "                title           = \"Lorenz 5D\" )"
   ]
  },
  {
   "cell_type": "code",
   "execution_count": null,
   "id": "4855c79c",
   "metadata": {},
   "outputs": [],
   "source": [
    "D.keys()"
   ]
  },
  {
   "cell_type": "code",
   "execution_count": null,
   "id": "c964c206",
   "metadata": {},
   "outputs": [],
   "source": [
    "D['ccm rho']"
   ]
  },
  {
   "cell_type": "code",
   "execution_count": null,
   "id": "60a4a6d4",
   "metadata": {},
   "outputs": [],
   "source": []
  }
 ],
 "metadata": {
  "kernelspec": {
   "display_name": "Python 3 (ipykernel)",
   "language": "python",
   "name": "python3"
  },
  "language_info": {
   "codemirror_mode": {
    "name": "ipython",
    "version": 3
   },
   "file_extension": ".py",
   "mimetype": "text/x-python",
   "name": "python",
   "nbconvert_exporter": "python",
   "pygments_lexer": "ipython3",
   "version": "3.13.1"
  }
 },
 "nbformat": 4,
 "nbformat_minor": 5
}
