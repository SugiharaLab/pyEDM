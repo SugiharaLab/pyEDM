{
 "cells": [
  {
   "cell_type": "markdown",
   "id": "4305972c",
   "metadata": {},
   "source": [
    "## Test pyEDM/etc/apps as loaded modules"
   ]
  },
  {
   "cell_type": "code",
   "execution_count": null,
   "id": "3e79ecdd",
   "metadata": {},
   "outputs": [],
   "source": [
    "import sys\n",
    "sys.path.append( '..' )\n",
    "\n",
    "from pyEDM import sampleData\n",
    "from matplotlib import pyplot as plt"
   ]
  },
  {
   "cell_type": "markdown",
   "id": "168dbfb6",
   "metadata": {},
   "source": [
    "### Embedding"
   ]
  },
  {
   "cell_type": "code",
   "execution_count": null,
   "id": "52e3c490",
   "metadata": {},
   "outputs": [],
   "source": [
    "from Embedding import Embedding"
   ]
  },
  {
   "cell_type": "code",
   "execution_count": null,
   "id": "ae6255ce",
   "metadata": {},
   "outputs": [],
   "source": [
    " df = Embedding( sampleData['Lorenz5D'], columns = ['V1', 'V3'], \n",
    "                 E = 2, tau = -2, plusminus = True )"
   ]
  },
  {
   "cell_type": "code",
   "execution_count": null,
   "id": "85e0d4b9",
   "metadata": {},
   "outputs": [],
   "source": [
    "df.head(4)"
   ]
  },
  {
   "cell_type": "markdown",
   "id": "006455a5",
   "metadata": {},
   "source": [
    "### SMap Tp"
   ]
  },
  {
   "cell_type": "code",
   "execution_count": null,
   "id": "e7d34274",
   "metadata": {},
   "outputs": [],
   "source": [
    "from SMap_Multiprocess_Tp import SMap_Tp"
   ]
  },
  {
   "cell_type": "code",
   "execution_count": null,
   "id": "c2e99bfa",
   "metadata": {},
   "outputs": [],
   "source": [
    " D = SMap_Tp( sampleData['Lorenz5D'], \n",
    "              TpList = [0,1,2,3,4,5,6,7,8,9,10], target = 'V5', column = 'V1',\n",
    "              E = 5, tau = -1, theta = 3.3, exclusionRadius = 0,\n",
    "              lib = [1,500], pred = [501,800], cores = 5, embedded = False,\n",
    "              verbose = False, plot = False )"
   ]
  },
  {
   "cell_type": "code",
   "execution_count": null,
   "id": "fd191be9",
   "metadata": {},
   "outputs": [],
   "source": [
    "D.keys()"
   ]
  },
  {
   "cell_type": "code",
   "execution_count": null,
   "id": "3af1ea96",
   "metadata": {
    "scrolled": true
   },
   "outputs": [],
   "source": [
    "D['Tp1']['coefficients'].head(4)"
   ]
  },
  {
   "cell_type": "code",
   "execution_count": null,
   "id": "f871b0cb",
   "metadata": {},
   "outputs": [],
   "source": []
  },
  {
   "cell_type": "markdown",
   "id": "fce458e8",
   "metadata": {},
   "source": [
    "### SMap theta"
   ]
  },
  {
   "cell_type": "code",
   "execution_count": null,
   "id": "cf1863b9",
   "metadata": {},
   "outputs": [],
   "source": [
    "from SMap_Multiprocess_theta import SMap_theta"
   ]
  },
  {
   "cell_type": "code",
   "execution_count": null,
   "id": "f2cc8c84",
   "metadata": {},
   "outputs": [],
   "source": [
    " D = SMap_theta( sampleData['Lorenz5D'], \n",
    "                 thetaList = [0.01,0.05,0.1,0.5,1,2,3,4,5,6,7,8,9], \n",
    "                 target = 'V5', column = 'V1',\n",
    "                 E = 5, tau = -1, Tp = 1, exclusionRadius = 0,\n",
    "                 lib = [1,500], pred = [501,800], cores = 5, embedded = False,\n",
    "                 verbose = False, plot = False )"
   ]
  },
  {
   "cell_type": "code",
   "execution_count": null,
   "id": "b4f878b4",
   "metadata": {},
   "outputs": [],
   "source": [
    "D.keys()"
   ]
  },
  {
   "cell_type": "code",
   "execution_count": null,
   "id": "1cb08071",
   "metadata": {
    "scrolled": true
   },
   "outputs": [],
   "source": [
    "D['theta_3']['coefficients'].head(4)"
   ]
  },
  {
   "cell_type": "code",
   "execution_count": null,
   "id": "e288813e",
   "metadata": {},
   "outputs": [],
   "source": []
  }
 ],
 "metadata": {
  "kernelspec": {
   "display_name": "Python 3 (ipykernel)",
   "language": "python",
   "name": "python3"
  },
  "language_info": {
   "codemirror_mode": {
    "name": "ipython",
    "version": 3
   },
   "file_extension": ".py",
   "mimetype": "text/x-python",
   "name": "python",
   "nbconvert_exporter": "python",
   "pygments_lexer": "ipython3",
   "version": "3.10.6"
  }
 },
 "nbformat": 4,
 "nbformat_minor": 5
}
