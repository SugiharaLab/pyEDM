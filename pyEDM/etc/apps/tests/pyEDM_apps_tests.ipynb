{
 "cells": [
  {
   "cell_type": "markdown",
   "id": "4305972c",
   "metadata": {},
   "source": [
    "## Test pyEDM/etc/apps as loaded modules"
   ]
  },
  {
   "cell_type": "code",
   "execution_count": null,
   "id": "3e79ecdd",
   "metadata": {},
   "outputs": [],
   "source": [
    "import sys\n",
    "sys.path.append( '..' )\n",
    "\n",
    "from pyEDM import sampleData\n",
    "from matplotlib import pyplot as plt"
   ]
  },
  {
   "cell_type": "markdown",
   "id": "168dbfb6",
   "metadata": {},
   "source": [
    "### Embedding"
   ]
  },
  {
   "cell_type": "code",
   "execution_count": null,
   "id": "52e3c490",
   "metadata": {},
   "outputs": [],
   "source": [
    "from Embedding import Embedding"
   ]
  },
  {
   "cell_type": "code",
   "execution_count": null,
   "id": "ae6255ce",
   "metadata": {},
   "outputs": [],
   "source": [
    " df = Embedding( sampleData['Lorenz5D'], columns = ['V1', 'V3'], \n",
    "                 E = 2, tau = -2, plusminus = True )"
   ]
  },
  {
   "cell_type": "code",
   "execution_count": null,
   "id": "85e0d4b9",
   "metadata": {},
   "outputs": [],
   "source": [
    "df.head(4)"
   ]
  },
  {
   "cell_type": "markdown",
   "id": "235a6353",
   "metadata": {},
   "source": [
    "### EmbedDim Columns"
   ]
  },
  {
   "cell_type": "code",
   "execution_count": null,
   "id": "87956106",
   "metadata": {},
   "outputs": [],
   "source": [
    "from EmbedDim_Multiprocess_Columns import EmbedDim_Columns"
   ]
  },
  {
   "cell_type": "code",
   "execution_count": null,
   "id": "b7b44e22",
   "metadata": {},
   "outputs": [],
   "source": [
    "%matplotlib widget\n",
    "\n",
    "df = EmbedDim_Columns( sampleData['Lorenz5D'], target = 'V5', maxE = 20,\n",
    "                       Tp = 10, tau = -1, exclusionRadius = 20,\n",
    "                       lib = None, pred = None, numThreads = 3, \n",
    "                       cores = 5, plot = True )"
   ]
  },
  {
   "cell_type": "code",
   "execution_count": null,
   "id": "3f75c36f",
   "metadata": {},
   "outputs": [],
   "source": [
    "df.head(4)"
   ]
  },
  {
   "cell_type": "markdown",
   "id": "62ddcf05",
   "metadata": {},
   "source": [
    "### CCM Multiprocess Columns"
   ]
  },
  {
   "cell_type": "code",
   "execution_count": null,
   "id": "61dc4fb4",
   "metadata": {},
   "outputs": [],
   "source": [
    "from CCM_Multiprocess_Columns import CCM_Columns"
   ]
  },
  {
   "cell_type": "code",
   "execution_count": null,
   "id": "7fb1f333",
   "metadata": {},
   "outputs": [],
   "source": [
    "%matplotlib widget\n",
    "\n",
    "df = CCM_Columns( sampleData['Lorenz5D'], target = 'V5', E = 5,\n",
    "                  tau = -1, exclusionRadius = 20,\n",
    "                  libSizes = [40, 80, 120, 200, 400, 600, 800, 980], \n",
    "                  cores = 5, plot = True )"
   ]
  },
  {
   "cell_type": "code",
   "execution_count": null,
   "id": "d098d01a",
   "metadata": {},
   "outputs": [],
   "source": [
    "df.head(4)"
   ]
  },
  {
   "cell_type": "markdown",
   "id": "bd291293",
   "metadata": {},
   "source": [
    "### CCM_LibSizes"
   ]
  },
  {
   "cell_type": "code",
   "execution_count": null,
   "id": "8ba8508f",
   "metadata": {},
   "outputs": [],
   "source": [
    "from CCM_Multiprocess_LibSizes import CCM_LibSizes"
   ]
  },
  {
   "cell_type": "code",
   "execution_count": null,
   "id": "5f2f7d8c",
   "metadata": {},
   "outputs": [],
   "source": [
    "%matplotlib widget\n",
    "\n",
    "libSizesList = [ [40,80,100], [120,150], [200,400], [600], [800], [980] ]\n",
    "\n",
    "df = CCM_LibSizes( sampleData['Lorenz5D'], target = 'V5', column = 'V1',\n",
    "                   E = 5,tau = -1, exclusionRadius = 20,\n",
    "                   libSizesList = libSizesList, cores = 6, plot = True )"
   ]
  },
  {
   "cell_type": "code",
   "execution_count": null,
   "id": "42136087",
   "metadata": {},
   "outputs": [],
   "source": [
    "df"
   ]
  },
  {
   "cell_type": "markdown",
   "id": "8bc2617f",
   "metadata": {},
   "source": [
    "### SMap Tp"
   ]
  },
  {
   "cell_type": "code",
   "execution_count": null,
   "id": "bd9342f5",
   "metadata": {},
   "outputs": [],
   "source": [
    "from SMap_Multiprocess_Tp import SMap_Tp"
   ]
  },
  {
   "cell_type": "code",
   "execution_count": null,
   "id": "e0c4c2e0",
   "metadata": {},
   "outputs": [],
   "source": [
    "%matplotlib widget\n",
    "\n",
    "D = SMap_Tp( sampleData['Lorenz5D'], \n",
    "             TpList = [-10,-8,-6,-4,-3,-2,-1,0,1,2,3,4,6,8,10],\n",
    "             target = 'V5', column = 'V1',\n",
    "             E = 5, tau = -1, theta = 4.4, \n",
    "             exclusionRadius = 20,\n",
    "             lib = [1,500], pred = [501,800], \n",
    "             cores = 10, embedded = False,\n",
    "             outputFile = None, noTime = False,\n",
    "             verbose = False, plot = True )"
   ]
  },
  {
   "cell_type": "code",
   "execution_count": null,
   "id": "60adf48c",
   "metadata": {},
   "outputs": [],
   "source": [
    "print( D.keys(), '\\n' )\n",
    "print( D['Tp0'].keys(), '\\n')\n",
    "D['Tp0']['coefficients'].head(4)"
   ]
  },
  {
   "cell_type": "markdown",
   "id": "9ffd9069",
   "metadata": {},
   "source": [
    "### PredictNL Columns"
   ]
  },
  {
   "cell_type": "code",
   "execution_count": null,
   "id": "5ede2ba7",
   "metadata": {},
   "outputs": [],
   "source": [
    "from PredictNL_Multiprocess_Columns import PredictNL_Columns"
   ]
  },
  {
   "cell_type": "code",
   "execution_count": null,
   "id": "01e60539",
   "metadata": {},
   "outputs": [],
   "source": [
    "df = PredictNL_Columns( sampleData['Lorenz5D'], target = 'V5', E = 5,\n",
    "                        Tp = 5, tau = -1, exclusionRadius = 20,\n",
    "                        lib = None, pred = None, \n",
    "                        theta = [0,0.1,0.25,0.5,0.75,1,1.5,2,3,4,5,8],\n",
    "                        numThreads = 4, cores = 5,\n",
    "                        outputFile = None, noTime = False,\n",
    "                        verbose = False, plot = True )"
   ]
  },
  {
   "cell_type": "code",
   "execution_count": null,
   "id": "69d6d15c",
   "metadata": {},
   "outputs": [],
   "source": [
    "df.head(5)"
   ]
  },
  {
   "cell_type": "code",
   "execution_count": null,
   "id": "b9df7102",
   "metadata": {},
   "outputs": [],
   "source": []
  }
 ],
 "metadata": {
  "kernelspec": {
   "display_name": "Python 3 (ipykernel)",
   "language": "python",
   "name": "python3"
  },
  "language_info": {
   "codemirror_mode": {
    "name": "ipython",
    "version": 3
   },
   "file_extension": ".py",
   "mimetype": "text/x-python",
   "name": "python",
   "nbconvert_exporter": "python",
   "pygments_lexer": "ipython3",
   "version": "3.10.6"
  }
 },
 "nbformat": 4,
 "nbformat_minor": 5
}
